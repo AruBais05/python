{
 "cells": [
  {
   "cell_type": "code",
   "execution_count": 27,
   "id": "8367ec43-2bbe-42aa-b9c8-c6088eeab6b3",
   "metadata": {},
   "outputs": [
    {
     "name": "stdin",
     "output_type": "stream",
     "text": [
      " 2 3 4 5 .\n"
     ]
    },
    {
     "name": "stdout",
     "output_type": "stream",
     "text": [
      "120\n"
     ]
    },
    {
     "name": "stdin",
     "output_type": "stream",
     "text": [
      " Hello World\n"
     ]
    },
    {
     "name": "stdout",
     "output_type": "stream",
     "text": [
      "(2, 8)\n",
      "False\n"
     ]
    },
    {
     "name": "stdin",
     "output_type": "stream",
     "text": [
      " 25100 2123\n"
     ]
    },
    {
     "name": "stdout",
     "output_type": "stream",
     "text": [
      "158.43649516446644\n",
      "False\n",
      "True\n"
     ]
    }
   ],
   "source": [
    "import math \n",
    "def multiply(numbers):\n",
    "    return math.prod(numbers)\n",
    "\n",
    "def count(s):\n",
    "    upper = sum(1 for char in s if char.isupper())\n",
    "    lower = sum(1 for char in s if char.islower())\n",
    "    return upper, lower\n",
    "    \n",
    "def palindrome(s):\n",
    "    pal=True\n",
    "    for i in range (len(s)//2):\n",
    "        if s[i]!= s[-i-1]:\n",
    "            pal=False\n",
    "            break\n",
    "    return pal\n",
    "\n",
    "def square (num, ml):\n",
    "    add=num+(ml/1000)\n",
    "    return math.sqrt(add)\n",
    "def all_true(t):\n",
    "    return all(t)\n",
    "\n",
    "numbers = [int(num) for num in input().split() if num != \".\"]\n",
    "print (multiply(numbers))\n",
    "s=input()\n",
    "print(count(s))\n",
    "print (palindrome(s))\n",
    "num, ml = map(int, input().split())\n",
    "print(square(num,ml))\n",
    "print(all_true((True, True, False)))\n",
    "print(all_true((1, 3, 5)))\n",
    "    "
   ]
  },
  {
   "cell_type": "code",
   "execution_count": null,
   "id": "edb1a1ef-470d-4c6e-880c-5476cbaa076a",
   "metadata": {},
   "outputs": [],
   "source": []
  },
  {
   "cell_type": "code",
   "execution_count": null,
   "id": "959e6d5e-4fdd-40f9-9e78-27819d38d180",
   "metadata": {},
   "outputs": [],
   "source": []
  },
  {
   "cell_type": "code",
   "execution_count": null,
   "id": "45079273-e33d-44d1-944c-ed98ea338ef8",
   "metadata": {},
   "outputs": [],
   "source": []
  }
 ],
 "metadata": {
  "kernelspec": {
   "display_name": "Python [conda env:base] *",
   "language": "python",
   "name": "conda-base-py"
  },
  "language_info": {
   "codemirror_mode": {
    "name": "ipython",
    "version": 3
   },
   "file_extension": ".py",
   "mimetype": "text/x-python",
   "name": "python",
   "nbconvert_exporter": "python",
   "pygments_lexer": "ipython3",
   "version": "3.12.7"
  }
 },
 "nbformat": 4,
 "nbformat_minor": 5
}
