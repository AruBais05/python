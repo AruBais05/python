{
 "cells": [
  {
   "cell_type": "code",
   "execution_count": 9,
   "id": "70d9498b-f1a6-4117-9271-14e9b06657f6",
   "metadata": {},
   "outputs": [
    {
     "name": "stdin",
     "output_type": "stream",
     "text": [
      "Input degree: 15\n"
     ]
    },
    {
     "name": "stdout",
     "output_type": "stream",
     "text": [
      "Output radian: 0.261799\n"
     ]
    }
   ],
   "source": [
    "import math\n",
    "num=int(input(\"Input degree:\"))\n",
    "print(f\"Output radian: {num*(math.pi/180):.6f}\")"
   ]
  },
  {
   "cell_type": "code",
   "execution_count": 15,
   "id": "c83b2c1a-0575-492c-aaf6-96c5bb7c88be",
   "metadata": {},
   "outputs": [
    {
     "name": "stdin",
     "output_type": "stream",
     "text": [
      "Height:  5\n",
      "Base, first value:  5\n",
      "Base, second value:  6\n"
     ]
    },
    {
     "name": "stdout",
     "output_type": "stream",
     "text": [
      "Trapezoid area: 27.5\n"
     ]
    }
   ],
   "source": [
    "height = int(input(\"Height: \"))\n",
    "base1 = int(input(\"Base, first value: \"))\n",
    "base2 = int(input(\"Base, second value: \"))\n",
    "\n",
    "area = (base1 + base2) * height / 2\n",
    "print(f\"Trapezoid area: {area:.1f}\")"
   ]
  },
  {
   "cell_type": "code",
   "execution_count": 17,
   "id": "d60c9c22-9f73-4c17-80fe-83f330eeb5d2",
   "metadata": {},
   "outputs": [
    {
     "name": "stdin",
     "output_type": "stream",
     "text": [
      "Input number of sides:  4\n",
      "Input the length of a side:  25\n"
     ]
    },
    {
     "name": "stdout",
     "output_type": "stream",
     "text": [
      "The area of the polygon is: 625.0\n"
     ]
    }
   ],
   "source": [
    "import math\n",
    "\n",
    "n = int(input(\"Input number of sides: \"))\n",
    "s = float(input(\"Input the length of a side: \"))\n",
    "\n",
    "area = (n * s**2) / (4 * math.tan(math.pi / n))\n",
    "\n",
    "print(f\"The area of the polygon is: {area:.1f}\")"
   ]
  },
  {
   "cell_type": "code",
   "execution_count": 25,
   "id": "16498542-16fb-4ccc-9a36-6a5b3a64eacc",
   "metadata": {},
   "outputs": [
    {
     "name": "stdin",
     "output_type": "stream",
     "text": [
      "Length of base: 5\n",
      "Height of parallelogram: 6\n"
     ]
    },
    {
     "name": "stdout",
     "output_type": "stream",
     "text": [
      "Area of the parallelogram: 30\n"
     ]
    }
   ],
   "source": [
    "length=int(input(\"Length of base:\"))\n",
    "height=int(input(\"Height of parallelogram:\"))\n",
    "print(f\"Area of the parallelogram: {length*height}\")"
   ]
  },
  {
   "cell_type": "code",
   "execution_count": null,
   "id": "24b8b040-a221-4474-ac69-67cf1b239e03",
   "metadata": {},
   "outputs": [],
   "source": []
  }
 ],
 "metadata": {
  "kernelspec": {
   "display_name": "Python [conda env:base] *",
   "language": "python",
   "name": "conda-base-py"
  },
  "language_info": {
   "codemirror_mode": {
    "name": "ipython",
    "version": 3
   },
   "file_extension": ".py",
   "mimetype": "text/x-python",
   "name": "python",
   "nbconvert_exporter": "python",
   "pygments_lexer": "ipython3",
   "version": "3.12.7"
  }
 },
 "nbformat": 4,
 "nbformat_minor": 5
}
