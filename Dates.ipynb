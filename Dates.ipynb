{
 "cells": [
  {
   "cell_type": "code",
   "execution_count": 2,
   "id": "1278ed76-95bc-4a61-9409-207baf5f91a8",
   "metadata": {},
   "outputs": [
    {
     "name": "stdout",
     "output_type": "stream",
     "text": [
      "Date five days ago: 2025-02-06\n"
     ]
    }
   ],
   "source": [
    "from datetime import datetime, timedelta\n",
    "\n",
    "current_date = datetime.today()\n",
    "new_date = current_date - timedelta(days=5)\n",
    "print(\"Date five days ago:\", new_date.strftime('%Y-%m-%d'))\n"
   ]
  },
  {
   "cell_type": "code",
   "execution_count": 4,
   "id": "510090df-9de9-487a-8444-bf6e4366eb40",
   "metadata": {},
   "outputs": [
    {
     "name": "stdout",
     "output_type": "stream",
     "text": [
      "Yesterday: 2025-02-10\n",
      "Today: 2025-02-11\n",
      "Tomorrow: 2025-02-12\n"
     ]
    }
   ],
   "source": [
    "from datetime import datetime, timedelta\n",
    "\n",
    "today = datetime.today()\n",
    "yesterday = today - timedelta(days=1)\n",
    "tomorrow = today + timedelta(days=1)\n",
    "\n",
    "print(\"Yesterday:\", yesterday.strftime('%Y-%m-%d'))\n",
    "print(\"Today:\", today.strftime('%Y-%m-%d'))\n",
    "print(\"Tomorrow:\", tomorrow.strftime('%Y-%m-%d'))\n"
   ]
  },
  {
   "cell_type": "code",
   "execution_count": 8,
   "id": "8f5ef259-931f-4f5e-a72f-69361dc0b224",
   "metadata": {},
   "outputs": [
    {
     "name": "stdout",
     "output_type": "stream",
     "text": [
      "Current time without microseconds: 2025-02-11 23:25:47\n"
     ]
    }
   ],
   "source": [
    "from datetime import datetime\n",
    "\n",
    "now = datetime.now()\n",
    "without_ms = now.replace(microsecond=0)\n",
    "\n",
    "print(\"Current time without microseconds:\", without_ms)\n"
   ]
  },
  {
   "cell_type": "code",
   "execution_count": 10,
   "id": "981d79a4-f80d-49cb-b74e-e557495ab461",
   "metadata": {},
   "outputs": [
    {
     "name": "stdout",
     "output_type": "stream",
     "text": [
      "Difference in seconds: 786600.0\n"
     ]
    }
   ],
   "source": [
    "from datetime import datetime, timedelta\n",
    "\n",
    "date1 = datetime(2024, 2, 1, 12, 0, 0)  \n",
    "date2 = datetime(2024, 2, 10, 14, 30, 0)  \n",
    "difference = date2 - date1\n",
    "seconds = difference.total_seconds()\n",
    "print(\"Difference in seconds:\", seconds)\n"
   ]
  },
  {
   "cell_type": "code",
   "execution_count": null,
   "id": "78f7b50a-d056-484c-b177-334d05e86fba",
   "metadata": {},
   "outputs": [],
   "source": []
  }
 ],
 "metadata": {
  "kernelspec": {
   "display_name": "Python [conda env:base] *",
   "language": "python",
   "name": "conda-base-py"
  },
  "language_info": {
   "codemirror_mode": {
    "name": "ipython",
    "version": 3
   },
   "file_extension": ".py",
   "mimetype": "text/x-python",
   "name": "python",
   "nbconvert_exporter": "python",
   "pygments_lexer": "ipython3",
   "version": "3.12.7"
  }
 },
 "nbformat": 4,
 "nbformat_minor": 5
}
