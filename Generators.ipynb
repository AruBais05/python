{
 "cells": [
  {
   "cell_type": "code",
   "execution_count": 1,
   "id": "daddd63b-8138-4b4e-94a7-46d814e327d6",
   "metadata": {},
   "outputs": [
    {
     "name": "stdout",
     "output_type": "stream",
     "text": [
      "0 1 4 9 16 25 "
     ]
    }
   ],
   "source": [
    "def squares(n):\n",
    "    for i in range(n + 1):\n",
    "        yield i ** 2\n",
    "\n",
    "for square in squares(5):\n",
    "    print(square, end=\" \")"
   ]
  },
  {
   "cell_type": "code",
   "execution_count": 5,
   "id": "3079130b-76bd-4ef8-bf0e-20e04011254d",
   "metadata": {},
   "outputs": [
    {
     "name": "stdin",
     "output_type": "stream",
     "text": [
      "Enter a number:  10\n"
     ]
    },
    {
     "name": "stdout",
     "output_type": "stream",
     "text": [
      "0,2,4,6,8,10\n"
     ]
    }
   ],
   "source": [
    "def even(n):\n",
    "    for i in range(0, n + 1, 2):\n",
    "        yield i\n",
    "\n",
    "n = int(input(\"Enter a number: \"))\n",
    "print(\",\".join(str(num) for num in even(n)))\n"
   ]
  },
  {
   "cell_type": "code",
   "execution_count": 7,
   "id": "2f2d2841-e9d2-4198-972b-e62b67dc6e7a",
   "metadata": {},
   "outputs": [
    {
     "name": "stdin",
     "output_type": "stream",
     "text": [
      "Enter a number:  15\n"
     ]
    },
    {
     "name": "stdout",
     "output_type": "stream",
     "text": [
      "[0, 12]\n"
     ]
    }
   ],
   "source": [
    "def divisible(n):\n",
    "    for i in range(0, n + 1):\n",
    "        if i % 3 == 0 and i % 4 == 0:\n",
    "            yield i\n",
    "\n",
    "n = int(input(\"Enter a number: \"))\n",
    "print(list(divisible(n)))  \n"
   ]
  },
  {
   "cell_type": "code",
   "execution_count": 9,
   "id": "7bf6ccef-e063-42f4-a9a6-e2896346dcd0",
   "metadata": {},
   "outputs": [
    {
     "name": "stdout",
     "output_type": "stream",
     "text": [
      "9 16 25 36 49 "
     ]
    }
   ],
   "source": [
    "def squares(a, b):\n",
    "    for i in range(a, b + 1):\n",
    "        yield i ** 2\n",
    "\n",
    "for sq in squares(3, 7):\n",
    "    print(sq, end=\" \") \n"
   ]
  },
  {
   "cell_type": "code",
   "execution_count": 11,
   "id": "7cca7720-8624-4c62-87fb-ed01ec934596",
   "metadata": {},
   "outputs": [
    {
     "name": "stdout",
     "output_type": "stream",
     "text": [
      "5 4 3 2 1 0 "
     ]
    }
   ],
   "source": [
    "def countdown(n):\n",
    "    while n >= 0:\n",
    "        yield n\n",
    "        n -= 1\n",
    "\n",
    "for num in countdown(5):\n",
    "    print(num, end=\" \")  \n"
   ]
  },
  {
   "cell_type": "code",
   "execution_count": null,
   "id": "443e608a-51e1-477c-ae8d-182e8b775a89",
   "metadata": {},
   "outputs": [],
   "source": []
  }
 ],
 "metadata": {
  "kernelspec": {
   "display_name": "Python [conda env:base] *",
   "language": "python",
   "name": "conda-base-py"
  },
  "language_info": {
   "codemirror_mode": {
    "name": "ipython",
    "version": 3
   },
   "file_extension": ".py",
   "mimetype": "text/x-python",
   "name": "python",
   "nbconvert_exporter": "python",
   "pygments_lexer": "ipython3",
   "version": "3.12.7"
  }
 },
 "nbformat": 4,
 "nbformat_minor": 5
}
